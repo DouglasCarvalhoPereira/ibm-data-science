{
 "cells": [
  {
   "cell_type": "markdown",
   "id": "aefd2561",
   "metadata": {},
   "source": [
    "# Data Science Tools and Ecosystem"
   ]
  },
  {
   "cell_type": "markdown",
   "id": "a2dcace2",
   "metadata": {},
   "source": [
    "In this notebook, Data Science Tools and Ecosystem are summarized."
   ]
  },
  {
   "cell_type": "markdown",
   "id": "3c8450d3",
   "metadata": {},
   "source": [
    "<strong>Objectives<strong>:\n",
    " - Top open source tools for Data Science\n",
    " - Top languages for Data Science\n",
    " - Top libraries for Data Science\n",
    " - How to use Jupyter notebook\n",
    " - First Arithmetic Commands in Python"
   ]
  },
  {
   "cell_type": "markdown",
   "id": "99d9bd6c",
   "metadata": {},
   "source": [
    "Some of the popular languages that Data Scientists use are:\n",
    "\n",
    "1. Python\n",
    "2. R lenguage\n",
    "3. SQL languages\n",
    "4. Scala,\n",
    "5. Java\n",
    "6. C++\n",
    "7. Julia"
   ]
  },
  {
   "cell_type": "markdown",
   "id": "c19939e4",
   "metadata": {},
   "source": [
    "Some of the commonly used libraries used by Data Scientists include:\n",
    "\n",
    "1. Pandas\n",
    "2. Numpy\n",
    "3. Mathplotlib\n",
    "4. SciPy\n",
    "5. ggplot2\n",
    "6. Seaborn"
   ]
  },
  {
   "cell_type": "markdown",
   "id": "c7ea7140",
   "metadata": {},
   "source": [
    "| Data Science Tools |\n",
    "| ----------- | \n",
    "| Jupyter Notebook | \n",
    "| Apache Spark   | \n",
    "| RStudio   | \n",
    "| Anaconda   | \n",
    "\n"
   ]
  },
  {
   "cell_type": "markdown",
   "id": "b3fc7a97",
   "metadata": {},
   "source": [
    "### Below are a few examples of evaluating arithmetic expressions in Python."
   ]
  },
  {
   "cell_type": "code",
   "execution_count": 3,
   "id": "680de9e1",
   "metadata": {},
   "outputs": [
    {
     "data": {
      "text/plain": [
       "17"
      ]
     },
     "execution_count": 3,
     "metadata": {},
     "output_type": "execute_result"
    }
   ],
   "source": [
    "#This a simple arithmetic expression to mutiply then add integers\n",
    "(3*4)+5"
   ]
  },
  {
   "cell_type": "code",
   "execution_count": 11,
   "id": "01aec8fc",
   "metadata": {},
   "outputs": [
    {
     "name": "stdout",
     "output_type": "stream",
     "text": [
      "200 minutes equals 3.3333333333333335 houres\n"
     ]
    }
   ],
   "source": [
    "#This will convert 200 minutes to hours by diving by 60\n",
    "houres = (200/60)\n",
    "print(f\"200 minutes equals {houres} houres\")"
   ]
  },
  {
   "cell_type": "markdown",
   "id": "1fe585b3",
   "metadata": {},
   "source": [
    "## Author \n",
    "Douglas Carvalho"
   ]
  },
  {
   "cell_type": "code",
   "execution_count": null,
   "id": "eb1cadd1",
   "metadata": {},
   "outputs": [],
   "source": []
  }
 ],
 "metadata": {
  "kernelspec": {
   "display_name": "Python 3 (ipykernel)",
   "language": "python",
   "name": "python3"
  },
  "language_info": {
   "codemirror_mode": {
    "name": "ipython",
    "version": 3
   },
   "file_extension": ".py",
   "mimetype": "text/x-python",
   "name": "python",
   "nbconvert_exporter": "python",
   "pygments_lexer": "ipython3",
   "version": "3.10.9"
  }
 },
 "nbformat": 4,
 "nbformat_minor": 5
}
